{
 "cells": [
  {
   "cell_type": "markdown",
   "metadata": {},
   "source": [
    "# TME Robotique et apprentissage: evolution de structures\n"
   ]
  },
  {
   "cell_type": "markdown",
   "metadata": {},
   "source": [
    "* Étudiant: Nom: XXX Prénom: XXX\n",
    "* Si binome: Nom: XXX Prénom: XXX\n",
    "\n",
    "Merci à chaque membre du binome de soumettre en son nom sous moodle, cela facilite le suivi."
   ]
  },
  {
   "cell_type": "markdown",
   "metadata": {},
   "source": [
    "## Introduction\n",
    "\n",
    "Ce TME est composé de deux parties indépendantes qui s'appuieront toutes deux sur le framework DEAP que vous avez utilisé lors du dernier TME. \n",
    "\n",
    "Dans la première partie, vous ferez de la regression symbolique avec de la programmation génétique.\n",
    "\n",
    "Dans la seconde partie, vous testerez l'expérience de Lehman et Stanley sur novelty search. \n",
    "\n",
    "Des squelettes de code vous sont fournis. Les zones à compléter sont repérées par des '##'.\n",
    "\n",
    "Merci de soumettre le code complété ainsi que le notebook auquel vous aurez ajouté les commentaires et tracés de courbes nécessaires pour répondre aux questions. MERCI DE NE PAS SOUMETTRE VOS FICHIERS DE DONNEES. La soumission se fait directement sur moodle."
   ]
  },
  {
   "cell_type": "markdown",
   "metadata": {},
   "source": [
    "## 1. Regression symbolique\n",
    "\n",
    "Vous allez utiliser la programmation génétique pour retrouver des équations à partir de données. \n",
    "Vous utiliserez pour cela les fonctions proposées par DEAP:\n",
    "https://deap.readthedocs.io/en/master/tutorials/advanced/gp.html\n",
    "\n",
    "\n",
    "**1.1-** Complétez le code qui vous a été fourni `symbolic_regression.py`. En vous appuyant sur DEAP, vous implémenterez 3 stratégies: \n",
    "* une stratégie purement élitiste visant à minimiser l'erreur d'approximation uniquement, \n",
    "* la stratégie avec double tournoi, le premier tournoi choisissant les individus avec les erreurs les plus faibles et le second tournoi choisissant les individus avec le modèle le plus simple\n",
    "* une stratégie multi-objectif s'appuyant sur NSGA-2 avec l'erreur d'approximation comme premier objectif et la taille du modèle en deuxième objectif (les deux étant à minimiser)\n",
    "\n",
    "Vous testerez votre code sur 2 fonctions simples (par exemple f(x,y)=x*y+cos(x) et f(x,y,z)=x^2+y^2+z^2) avec le jeu de fonctions primitives suivant: +, -, *, / (protected_div), cos et sin. Vous pourrez ajouter une constante (1) et une constante éphémère (variable aléatoire uniforme entre -1 et 1). Vous génèrerez un ensemble de données d'entrainement et un ensemble que vous utiliserez pour vérifier s'il y a eu surapprentissage. Vous pourrez générer, par exemple, 30 valeurs différentes de x et 30 valeurs différentes de y. Vous indiquerez dans votre réponse les opérateurs de mutation et de croisement que vous avez utilisé (remarque: si vous voulez combiner plusieurs opérateurs de mutation ou de croisement, il faut définir un nouvel opérateur qui gère cette combinaison).\n",
    "\n",
    "\n",
    "Vous regarderez les arbres générés et indiquerez le nombre de fois que la fonction a été retrouvée sur une dizaine d'expériences. Vous comparerez la taille des fonctions générées selon la variante de sélection utilisée. \n",
    "\n",
    "Remarque1: pour rappel, la programmation génétique utilise généralement de grandes populations. Il vous est recommandé d'utiliser des tailles de 400 minimum. En une centaine de générations, vous devriez pouvoir observer de premiers résultats. \n",
    "\n",
    "Remarque2: pour limiter l'impact du \"bloat\", il vous est recommandé de mettre une taille maximale à l'arbre généré par les opérateurs de mutation et de croisement. Vous pourrez utiliser gp.staticLimit. Sans cela, certaines expériences risquent de prendre un temps et une mémoire considérables. "
   ]
  },
  {
   "cell_type": "code",
   "execution_count": 16,
   "metadata": {},
   "outputs": [],
   "source": [
    "import symbolic_regression\n",
    "import importlib"
   ]
  },
  {
   "cell_type": "code",
   "execution_count": 19,
   "metadata": {},
   "outputs": [
    {
     "output_type": "stream",
     "name": "stdout",
     "text": [
      "Number of generations: 10\nPopulation size: 400\nNumber of offspring to generate: 400\nSelection scheme: elitist\nBasename of the results dir: res\nState dim: 0 (ignored on most problems)\n[[0, 3], [5, 2], [6, 8], [5, 9], [2, 9], [4, 8], [8, 3], [7, 3], [9, 6], [8, 7], [8, 6], [1, 2], [5, 3], [0, 3], [8, 4], [2, 5], [0, 4], [0, 6], [0, 7], [3, 2], [6, 8], [1, 5], [2, 0], [6, 8], [4, 6], [6, 8], [3, 0], [3, 9], [5, 6], [3, 6]]\n"
     ]
    },
    {
     "output_type": "error",
     "ename": "Exception",
     "evalue": "Ephemerals with different functions should be named differently, even between psets.",
     "traceback": [
      "\u001b[0;31m---------------------------------------------------------------------------\u001b[0m",
      "\u001b[0;31mException\u001b[0m                                 Traceback (most recent call last)",
      "\u001b[0;32m<ipython-input-19-d50d3c1e4a53>\u001b[0m in \u001b[0;36m<module>\u001b[0;34m\u001b[0m\n\u001b[1;32m      1\u001b[0m \u001b[0mimportlib\u001b[0m\u001b[0;34m.\u001b[0m\u001b[0mreload\u001b[0m\u001b[0;34m(\u001b[0m\u001b[0msymbolic_regression\u001b[0m\u001b[0;34m)\u001b[0m\u001b[0;34m\u001b[0m\u001b[0;34m\u001b[0m\u001b[0m\n\u001b[1;32m      2\u001b[0m \u001b[0;34m\u001b[0m\u001b[0m\n\u001b[0;32m----> 3\u001b[0;31m \u001b[0msymbolic_regression\u001b[0m\u001b[0;34m.\u001b[0m\u001b[0mmain\u001b[0m\u001b[0;34m(\u001b[0m\u001b[0mnb_gen\u001b[0m\u001b[0;34m=\u001b[0m\u001b[0;36m10\u001b[0m\u001b[0;34m)\u001b[0m\u001b[0;34m\u001b[0m\u001b[0;34m\u001b[0m\u001b[0m\n\u001b[0m",
      "\u001b[0;32m~/Documents/GitHub/M1/RA/TME_Pressions_structures/symbolic_regression.py\u001b[0m in \u001b[0;36mmain\u001b[0;34m(nb_gen, mu, lambda_, res_dir, selection, problem, state_dim, noise)\u001b[0m\n\u001b[1;32m    352\u001b[0m     \u001b[0mpset\u001b[0m\u001b[0;34m.\u001b[0m\u001b[0maddPrimitive\u001b[0m\u001b[0;34m(\u001b[0m\u001b[0mmath\u001b[0m\u001b[0;34m.\u001b[0m\u001b[0msin\u001b[0m\u001b[0;34m,\u001b[0m \u001b[0;36m1\u001b[0m\u001b[0;34m)\u001b[0m\u001b[0;34m\u001b[0m\u001b[0;34m\u001b[0m\u001b[0m\n\u001b[1;32m    353\u001b[0m     \u001b[0mpset\u001b[0m\u001b[0;34m.\u001b[0m\u001b[0maddTerminal\u001b[0m\u001b[0;34m(\u001b[0m\u001b[0;36m1\u001b[0m\u001b[0;34m)\u001b[0m\u001b[0;34m\u001b[0m\u001b[0;34m\u001b[0m\u001b[0m\n\u001b[0;32m--> 354\u001b[0;31m     \u001b[0mpset\u001b[0m\u001b[0;34m.\u001b[0m\u001b[0maddEphemeralConstant\u001b[0m\u001b[0;34m(\u001b[0m\u001b[0;34m\"rand101\"\u001b[0m\u001b[0;34m,\u001b[0m \u001b[0;32mlambda\u001b[0m\u001b[0;34m:\u001b[0m \u001b[0mru\u001b[0m\u001b[0;34m(\u001b[0m\u001b[0;34m)\u001b[0m\u001b[0;34m)\u001b[0m\u001b[0;34m\u001b[0m\u001b[0;34m\u001b[0m\u001b[0m\n\u001b[0m\u001b[1;32m    355\u001b[0m     \u001b[0mpset\u001b[0m\u001b[0;34m.\u001b[0m\u001b[0mrenameArguments\u001b[0m\u001b[0;34m(\u001b[0m\u001b[0mARG0\u001b[0m\u001b[0;34m=\u001b[0m\u001b[0;34m\"x1\"\u001b[0m\u001b[0;34m)\u001b[0m\u001b[0;34m\u001b[0m\u001b[0;34m\u001b[0m\u001b[0m\n\u001b[1;32m    356\u001b[0m     \u001b[0mpset\u001b[0m\u001b[0;34m.\u001b[0m\u001b[0mrenameArguments\u001b[0m\u001b[0;34m(\u001b[0m\u001b[0mARG1\u001b[0m\u001b[0;34m=\u001b[0m\u001b[0;34m\"x2\"\u001b[0m\u001b[0;34m)\u001b[0m\u001b[0;34m\u001b[0m\u001b[0;34m\u001b[0m\u001b[0m\n",
      "\u001b[0;32m~/anaconda3/lib/python3.8/site-packages/deap/gp.py\u001b[0m in \u001b[0;36maddEphemeralConstant\u001b[0;34m(self, name, ephemeral)\u001b[0m\n\u001b[1;32m    452\u001b[0m     \u001b[0;32mdef\u001b[0m \u001b[0maddEphemeralConstant\u001b[0m\u001b[0;34m(\u001b[0m\u001b[0mself\u001b[0m\u001b[0;34m,\u001b[0m \u001b[0mname\u001b[0m\u001b[0;34m,\u001b[0m \u001b[0mephemeral\u001b[0m\u001b[0;34m)\u001b[0m\u001b[0;34m:\u001b[0m\u001b[0;34m\u001b[0m\u001b[0;34m\u001b[0m\u001b[0m\n\u001b[1;32m    453\u001b[0m         \u001b[0;34m\"\"\"Add an ephemeral constant to the set.\"\"\"\u001b[0m\u001b[0;34m\u001b[0m\u001b[0;34m\u001b[0m\u001b[0m\n\u001b[0;32m--> 454\u001b[0;31m         \u001b[0mPrimitiveSetTyped\u001b[0m\u001b[0;34m.\u001b[0m\u001b[0maddEphemeralConstant\u001b[0m\u001b[0;34m(\u001b[0m\u001b[0mself\u001b[0m\u001b[0;34m,\u001b[0m \u001b[0mname\u001b[0m\u001b[0;34m,\u001b[0m \u001b[0mephemeral\u001b[0m\u001b[0;34m,\u001b[0m \u001b[0m__type__\u001b[0m\u001b[0;34m)\u001b[0m\u001b[0;34m\u001b[0m\u001b[0;34m\u001b[0m\u001b[0m\n\u001b[0m\u001b[1;32m    455\u001b[0m \u001b[0;34m\u001b[0m\u001b[0m\n\u001b[1;32m    456\u001b[0m \u001b[0;34m\u001b[0m\u001b[0m\n",
      "\u001b[0;32m~/anaconda3/lib/python3.8/site-packages/deap/gp.py\u001b[0m in \u001b[0;36maddEphemeralConstant\u001b[0;34m(self, name, ephemeral, ret_type)\u001b[0m\n\u001b[1;32m    398\u001b[0m             \u001b[0;32mif\u001b[0m \u001b[0missubclass\u001b[0m\u001b[0;34m(\u001b[0m\u001b[0mclass_\u001b[0m\u001b[0;34m,\u001b[0m \u001b[0mEphemeral\u001b[0m\u001b[0;34m)\u001b[0m\u001b[0;34m:\u001b[0m\u001b[0;34m\u001b[0m\u001b[0;34m\u001b[0m\u001b[0m\n\u001b[1;32m    399\u001b[0m                 \u001b[0;32mif\u001b[0m \u001b[0mclass_\u001b[0m\u001b[0;34m.\u001b[0m\u001b[0mfunc\u001b[0m \u001b[0;32mis\u001b[0m \u001b[0;32mnot\u001b[0m \u001b[0mephemeral\u001b[0m\u001b[0;34m:\u001b[0m\u001b[0;34m\u001b[0m\u001b[0;34m\u001b[0m\u001b[0m\n\u001b[0;32m--> 400\u001b[0;31m                     raise Exception(\"Ephemerals with different functions should \"\n\u001b[0m\u001b[1;32m    401\u001b[0m                                     \"be named differently, even between psets.\")\n\u001b[1;32m    402\u001b[0m                 \u001b[0;32melif\u001b[0m \u001b[0mclass_\u001b[0m\u001b[0;34m.\u001b[0m\u001b[0mret\u001b[0m \u001b[0;32mis\u001b[0m \u001b[0;32mnot\u001b[0m \u001b[0mret_type\u001b[0m\u001b[0;34m:\u001b[0m\u001b[0;34m\u001b[0m\u001b[0;34m\u001b[0m\u001b[0m\n",
      "\u001b[0;31mException\u001b[0m: Ephemerals with different functions should be named differently, even between psets."
     ]
    }
   ],
   "source": [
    "importlib.reload(symbolic_regression)\n",
    "\n",
    "symbolic_regression.main(nb_gen=10)"
   ]
  },
  {
   "cell_type": "markdown",
   "metadata": {},
   "source": [
    "**1.2-** Ajoutez du bruit à vos fonctions et observez le résultat obtenu (mettez des valeurs qui sont faibles devant les données, par exemple 0.0001)."
   ]
  },
  {
   "cell_type": "code",
   "execution_count": null,
   "metadata": {},
   "outputs": [],
   "source": []
  },
  {
   "cell_type": "markdown",
   "metadata": {},
   "source": [
    "**1.3- (option) ** Utilisez le code d'apprentissage du pendule vue lors de la séance précédente pour générer des données et essayez d'apprendre un modèle du pendule (un arbre par dimension de l'espace d'état)."
   ]
  },
  {
   "cell_type": "code",
   "execution_count": null,
   "metadata": {},
   "outputs": [],
   "source": []
  },
  {
   "cell_type": "markdown",
   "metadata": {},
   "source": [
    "**Pour aller plus loin (non demandé pour le TME)** pour apprendre des modèles en écartant les solutions triviales et en gérant mieux les constantes, vous pouvez regarder ce qui a été fait notamment dans les articles suivants:\n",
    "* Schmidt, M., & Lipson, H. (2009). Distilling free-form natural laws from experimental data. science, 324(5923), 81-85.\n",
    "* Derner, E., Kubalík, J., Ancona, N., & Babuška, R. (2019). Symbolic Regression for Constructing Analytic Models in Reinforcement Learning. arXiv preprint arXiv:1903.11483."
   ]
  },
  {
   "cell_type": "markdown",
   "metadata": {},
   "source": [
    "## 2. Fitness & Nouveauté\n",
    "\n",
    "L'environnement `FastsimSimpleNavigation-v0` de gym_fastsim permet de lancer des expériences de navigation avec un robot à roues naviguant dans un labyrinthe. Vous allez dans cette partie reproduire les expériences de Lehman et Stanley sur la recherche de nouveauté. Vous allez faire différentes variantes de cette expérience, certaines étant en mono- d'autres étant en multi-objectif. Pour simplifier, dans tous les cas, vous utiliserez NSGA-2, qui est équivalent à une stratégie élitiste en mono-objectif.\n",
    "\n",
    "Pour utiliser l'environnement `FastsimSimpleNavigation-v0`, un script d'installation (linux) vous est fourni: `install-dependencies.sh`.\n"
   ]
  },
  {
   "cell_type": "markdown",
   "metadata": {},
   "source": [
    "**2.1-**  Lancer une première expérience dans laquelle le robot doit atteindre la sortie du labyrinthe. Vous pourrez essayer avec la reward de l'expérience, qui est une reward binaire (sortie atteinte ou non) et avec une fitness plus continue dans laquelle la récompense est la distance à la sortie (à minimiser donc). Pour observer le comportement de la recherche effectuée, vous pourrez écrire la position du robot à la fin de l'évaluation et ensuite tracer ces positions avec les fonctions fournies dans `maze_plot.py` (vous pouvez aussi tracer les trajectoires, mais comme il y a 2000 positions par évaluation, dans ce cas, vous pourrez n'écrire qu'une position sur 100, par exemple).\n",
    "\n",
    "Quelles parties de l'espace ont été explorées dans les deux cas ? Est-ce que la sortie est atteinte (vous vous limiterez à 200 générations) ? Si oui, au bout de combien de générations ?"
   ]
  },
  {
   "cell_type": "code",
   "execution_count": null,
   "metadata": {},
   "outputs": [],
   "source": []
  },
  {
   "cell_type": "markdown",
   "metadata": {},
   "source": [
    "**2.2-** Lancer la même expérience, mais avec un critère de nouveauté. Vous pourrez pour cela partir du code fourni pour le calcul de nouveauté (`novelty_search.py`) et le compléter.  "
   ]
  },
  {
   "cell_type": "code",
   "execution_count": null,
   "metadata": {},
   "outputs": [],
   "source": []
  },
  {
   "cell_type": "markdown",
   "metadata": {},
   "source": [
    "**2.3-** Utiliser en même temps la fitness et le critère de nouveauté avec NSGA-2. Mesurez le temps moyen pour atteindre la sortie. "
   ]
  },
  {
   "cell_type": "code",
   "execution_count": null,
   "metadata": {},
   "outputs": [],
   "source": []
  }
 ],
 "metadata": {
  "kernelspec": {
   "name": "python38564bitbimacondaf91bf11fcdf041f0aa9f690044cce4ad",
   "display_name": "Python 3.8.5 64-bit ('bima': conda)",
   "language": "python"
  },
  "language_info": {
   "codemirror_mode": {
    "name": "ipython",
    "version": 3
   },
   "file_extension": ".py",
   "mimetype": "text/x-python",
   "name": "python",
   "nbconvert_exporter": "python",
   "pygments_lexer": "ipython3",
   "version": "3.8.3"
  },
  "metadata": {
   "interpreter": {
    "hash": "916dbcbb3f70747c44a77c7bcd40155683ae19c65e1c03b4aa3499c5328201f1"
   }
  }
 },
 "nbformat": 4,
 "nbformat_minor": 2
}